{
  "nbformat": 4,
  "nbformat_minor": 0,
  "metadata": {
    "colab": {
      "provenance": [],
      "authorship_tag": "ABX9TyNnuu7uMtzL25X2iX1R6L01",
      "include_colab_link": true
    },
    "kernelspec": {
      "name": "python3",
      "display_name": "Python 3"
    },
    "language_info": {
      "name": "python"
    }
  },
  "cells": [
    {
      "cell_type": "markdown",
      "metadata": {
        "id": "view-in-github",
        "colab_type": "text"
      },
      "source": [
        "<a href=\"https://colab.research.google.com/github/411578098/introduction-to-Computers/blob/main/Untitled2.ipynb\" target=\"_parent\"><img src=\"https://colab.research.google.com/assets/colab-badge.svg\" alt=\"Open In Colab\"/></a>"
      ]
    },
    {
      "cell_type": "code",
      "execution_count": 1,
      "metadata": {
        "colab": {
          "base_uri": "https://localhost:8080/"
        },
        "id": "hkPeAi4yzSyR",
        "outputId": "db65c169-2b75-4e96-b829-2912908a0b33"
      },
      "outputs": [
        {
          "name": "stdout",
          "output_type": "stream",
          "text": [
            "請輸入攝氏溫度:32.5\n"
          ]
        }
      ],
      "source": [
        "攝氏=float(input(\"請輸入攝氏溫度:\"))"
      ]
    },
    {
      "cell_type": "code",
      "source": [
        "#計算對應的華氏溫度\n",
        "華氏=攝氏*9/5+32"
      ],
      "metadata": {
        "id": "heBUv4gIzu4Y"
      },
      "execution_count": 3,
      "outputs": []
    },
    {
      "cell_type": "code",
      "source": [
        "#輸出轉換後的華氏溫度\n",
        "print(華氏)"
      ],
      "metadata": {
        "colab": {
          "base_uri": "https://localhost:8080/"
        },
        "id": "YZhNMvSI0Pum",
        "outputId": "e5d1fdac-b332-46d6-b7f5-e1f53a77c696"
      },
      "execution_count": 4,
      "outputs": [
        {
          "output_type": "stream",
          "name": "stdout",
          "text": [
            "90.5\n"
          ]
        }
      ]
    },
    {
      "cell_type": "code",
      "source": [
        "num=2.9999999\n",
        "round_num=round(num,1)#四捨五入至小數點第一位\n",
        "print(round_num)"
      ],
      "metadata": {
        "colab": {
          "base_uri": "https://localhost:8080/"
        },
        "id": "p6P_vQn20dIG",
        "outputId": "417aac48-f991-4308-a47a-152874857b36"
      },
      "execution_count": 6,
      "outputs": [
        {
          "output_type": "stream",
          "name": "stdout",
          "text": [
            "3.0\n"
          ]
        }
      ]
    },
    {
      "cell_type": "code",
      "source": [
        "體重=float(input(\"請輸入您的體重(公斤):\"))\n",
        "身高公分=float(input(\"請輸入您的身高(公分):\"))"
      ],
      "metadata": {
        "colab": {
          "base_uri": "https://localhost:8080/"
        },
        "id": "gH8K7Y7f1A7v",
        "outputId": "44b5d076-85ee-4485-fdef-a6e8bc95c3f2"
      },
      "execution_count": 10,
      "outputs": [
        {
          "name": "stdout",
          "output_type": "stream",
          "text": [
            "請輸入您的體重(公斤):48\n",
            "請輸入您的身高(公分):155\n"
          ]
        }
      ]
    },
    {
      "cell_type": "code",
      "source": [
        "BMI=體重/(身高公分/100)**2\n",
        "BMI=round(BMI,2)#將BMI四捨五入制小數點兩位"
      ],
      "metadata": {
        "id": "rUjulTNG1w6H"
      },
      "execution_count": 11,
      "outputs": []
    },
    {
      "cell_type": "code",
      "source": [
        "print(BMI)"
      ],
      "metadata": {
        "colab": {
          "base_uri": "https://localhost:8080/"
        },
        "id": "iuNKW_uz2Jyu",
        "outputId": "2c72691a-1fb0-4d98-c8cd-37673defd8da"
      },
      "execution_count": 12,
      "outputs": [
        {
          "output_type": "stream",
          "name": "stdout",
          "text": [
            "19.98\n"
          ]
        }
      ]
    },
    {
      "cell_type": "code",
      "source": [
        "總和=sum(range(1,101))#加總1-100\n",
        "print(總和)"
      ],
      "metadata": {
        "colab": {
          "base_uri": "https://localhost:8080/"
        },
        "id": "N2ERkcJl2QE9",
        "outputId": "0dda12e0-c7f7-4bd3-856f-4c8b2d26c3a6"
      },
      "execution_count": 14,
      "outputs": [
        {
          "output_type": "stream",
          "name": "stdout",
          "text": [
            "5050\n"
          ]
        }
      ]
    },
    {
      "cell_type": "code",
      "source": [
        "總和=sum(range(1,50,2))#加總1-50所有奇數\n",
        "print(總和)"
      ],
      "metadata": {
        "colab": {
          "base_uri": "https://localhost:8080/"
        },
        "id": "xaesIzYZ2yag",
        "outputId": "904ab3fe-2349-4b74-b5d4-e7018f3840fe"
      },
      "execution_count": 15,
      "outputs": [
        {
          "output_type": "stream",
          "name": "stdout",
          "text": [
            "625\n"
          ]
        }
      ]
    }
  ]
}