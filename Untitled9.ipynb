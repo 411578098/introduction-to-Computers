{
  "nbformat": 4,
  "nbformat_minor": 0,
  "metadata": {
    "colab": {
      "provenance": [],
      "authorship_tag": "ABX9TyPjRJVj80a7GhhSk8wh08MR",
      "include_colab_link": true
    },
    "kernelspec": {
      "name": "python3",
      "display_name": "Python 3"
    },
    "language_info": {
      "name": "python"
    }
  },
  "cells": [
    {
      "cell_type": "markdown",
      "metadata": {
        "id": "view-in-github",
        "colab_type": "text"
      },
      "source": [
        "<a href=\"https://colab.research.google.com/github/411578098/introduction-to-Computers/blob/main/Untitled9.ipynb\" target=\"_parent\"><img src=\"https://colab.research.google.com/assets/colab-badge.svg\" alt=\"Open In Colab\"/></a>"
      ]
    },
    {
      "cell_type": "code",
      "execution_count": 1,
      "metadata": {
        "colab": {
          "base_uri": "https://localhost:8080/"
        },
        "id": "khvWbP3AOQKU",
        "outputId": "e9a9e4cf-b283-42a4-8515-c922708ccf2d"
      },
      "outputs": [
        {
          "output_type": "stream",
          "name": "stdout",
          "text": [
            "5\n",
            "*\n",
            "**\n",
            "***\n",
            "****\n",
            "*****\n"
          ]
        }
      ],
      "source": [
        "n=int(input())\n",
        "for i in range(1,n+1):\n",
        "  print(i*'*')"
      ]
    },
    {
      "cell_type": "code",
      "source": [
        "monthA=int(input())\n",
        "if(3<= monthA<= 5):\n",
        "  print('{}is spring'.format(monthA))\n",
        "elif(6 <= monthA <= 8):\n",
        "  print('{} is summer'.format(monthA))\n",
        "elif(9<= monthA <= 11):\n",
        "  print('{} is autumn'.format(monthA))\n",
        "elif(monthA == 12 or monthA ==1 or monthA ==2):\n",
        "  print('{} is winter'.format(monthA))\n",
        "else:\n",
        "  print('input error')"
      ],
      "metadata": {
        "colab": {
          "base_uri": "https://localhost:8080/"
        },
        "id": "vr5JQJqYOxWP",
        "outputId": "c8da3c54-5a42-4154-aad0-cb8b9d4bad14"
      },
      "execution_count": 3,
      "outputs": [
        {
          "output_type": "stream",
          "name": "stdout",
          "text": [
            "1\n",
            "1 is winter\n"
          ]
        }
      ]
    }
  ]
}