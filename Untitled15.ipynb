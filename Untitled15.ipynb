{
  "nbformat": 4,
  "nbformat_minor": 0,
  "metadata": {
    "colab": {
      "provenance": [],
      "authorship_tag": "ABX9TyP8IJvUFUCZ4j80UTzCQp7x",
      "include_colab_link": true
    },
    "kernelspec": {
      "name": "python3",
      "display_name": "Python 3"
    },
    "language_info": {
      "name": "python"
    }
  },
  "cells": [
    {
      "cell_type": "markdown",
      "metadata": {
        "id": "view-in-github",
        "colab_type": "text"
      },
      "source": [
        "<a href=\"https://colab.research.google.com/github/411578098/introduction-to-Computers/blob/main/Untitled15.ipynb\" target=\"_parent\"><img src=\"https://colab.research.google.com/assets/colab-badge.svg\" alt=\"Open In Colab\"/></a>"
      ]
    },
    {
      "cell_type": "code",
      "execution_count": 3,
      "metadata": {
        "colab": {
          "base_uri": "https://localhost:8080/"
        },
        "id": "-gx2q_ijlyo2",
        "outputId": "0e318d27-0e8d-41c3-8880-7ea2e8126aaa"
      },
      "outputs": [
        {
          "output_type": "stream",
          "name": "stdout",
          "text": [
            "體溫正常！\n"
          ]
        }
      ],
      "source": [
        "temperature = 36.8\n",
        "if temperature >= 37.5:\n",
        "    print(\"體溫過高！\")\n",
        "elif 37.0 <= temperature <= 37.4:\n",
        "    print(\"體溫略高！\")\n",
        "elif 34.0 <= temperature < 37.0:\n",
        "    print(\"體溫正常！\")\n",
        "else:\n",
        "    print(\"體溫異常，請重新量測！\")"
      ]
    },
    {
      "cell_type": "code",
      "source": [
        "score=int(input())\n",
        "if score >100 or score <0:\n",
        "  print(f\"{score} is error\")\n",
        "elif score >= 90:\n",
        "  print(f\"{score} is A\")\n",
        "elif score >= 80:\n",
        "  print(f\"{score} is B\")\n",
        "elif score >= 70:\n",
        "  print(f\"{score} is C\")\n",
        "elif score >= 60:\n",
        "  print(f\"{score} is D\")\n",
        "else:\n",
        "  print(f\"{score} is E\")"
      ],
      "metadata": {
        "colab": {
          "base_uri": "https://localhost:8080/"
        },
        "id": "QelKx0YNp8l-",
        "outputId": "9a7d9270-c06f-4fd7-ba92-37d59269d976"
      },
      "execution_count": 4,
      "outputs": [
        {
          "output_type": "stream",
          "name": "stdout",
          "text": [
            "95\n",
            "95 is A\n"
          ]
        }
      ]
    },
    {
      "cell_type": "code",
      "source": [
        "month = int(input())\n",
        "if month in [3, 4, 5]:\n",
        "    print(f\"{month}is spring!\")\n",
        "elif month in [6, 7, 8]:\n",
        "    print(f\"{month}is summer!\")\n",
        "elif month in [9, 10, 11]:\n",
        "    print(f\"{month}is autumn!\")\n",
        "elif month in [12, 1, 2]:\n",
        "    print(f\"{month}is winter!\")\n",
        "else:\n",
        "    print(\"其他月份不在範圍內！\")\n"
      ],
      "metadata": {
        "colab": {
          "base_uri": "https://localhost:8080/"
        },
        "id": "A08P7pWgrxwa",
        "outputId": "86d9ef91-89ca-4cc2-be8d-75226e4fb6af"
      },
      "execution_count": 5,
      "outputs": [
        {
          "output_type": "stream",
          "name": "stdout",
          "text": [
            "4\n",
            "4is sprin!\n"
          ]
        }
      ]
    }
  ]
}