{
  "nbformat": 4,
  "nbformat_minor": 0,
  "metadata": {
    "colab": {
      "provenance": [],
      "authorship_tag": "ABX9TyOnKE6ybFAfwlIvUKkJF4H5",
      "include_colab_link": true
    },
    "kernelspec": {
      "name": "python3",
      "display_name": "Python 3"
    },
    "language_info": {
      "name": "python"
    }
  },
  "cells": [
    {
      "cell_type": "markdown",
      "metadata": {
        "id": "view-in-github",
        "colab_type": "text"
      },
      "source": [
        "<a href=\"https://colab.research.google.com/github/411578098/introduction-to-Computers/blob/main/Untitled.ipynb\" target=\"_parent\"><img src=\"https://colab.research.google.com/assets/colab-badge.svg\" alt=\"Open In Colab\"/></a>"
      ]
    },
    {
      "cell_type": "code",
      "execution_count": 1,
      "metadata": {
        "colab": {
          "base_uri": "https://localhost:8080/"
        },
        "id": "DAMKhw38pR3d",
        "outputId": "7228f933-f71a-4d58-abab-039f7048309f"
      },
      "outputs": [
        {
          "output_type": "stream",
          "name": "stdout",
          "text": [
            "hi\n"
          ]
        }
      ],
      "source": [
        "print(\"hi\")"
      ]
    },
    {
      "cell_type": "code",
      "source": [
        "i=range(5)"
      ],
      "metadata": {
        "id": "_ioZ6F8cpl_5"
      },
      "execution_count": 2,
      "outputs": []
    },
    {
      "cell_type": "code",
      "source": [
        "print(type(i))"
      ],
      "metadata": {
        "colab": {
          "base_uri": "https://localhost:8080/"
        },
        "id": "WUxrh8JupoNy",
        "outputId": "19d68b2f-0c25-4b84-d23b-d695e4c48f58"
      },
      "execution_count": 3,
      "outputs": [
        {
          "output_type": "stream",
          "name": "stdout",
          "text": [
            "<class 'range'>\n"
          ]
        }
      ]
    },
    {
      "cell_type": "code",
      "source": [
        "print(i)"
      ],
      "metadata": {
        "colab": {
          "base_uri": "https://localhost:8080/"
        },
        "id": "Tcc0p1jTpqiZ",
        "outputId": "51dd8259-74bb-4567-b605-5b6c3ad3bf88"
      },
      "execution_count": 4,
      "outputs": [
        {
          "output_type": "stream",
          "name": "stdout",
          "text": [
            "range(0, 5)\n"
          ]
        }
      ]
    },
    {
      "cell_type": "code",
      "source": [
        "print(list(i))"
      ],
      "metadata": {
        "colab": {
          "base_uri": "https://localhost:8080/"
        },
        "id": "SnVMbEUKps42",
        "outputId": "91c685f6-feaa-4116-8395-e66c6a09e17b"
      },
      "execution_count": 5,
      "outputs": [
        {
          "output_type": "stream",
          "name": "stdout",
          "text": [
            "[0, 1, 2, 3, 4]\n"
          ]
        }
      ]
    },
    {
      "cell_type": "code",
      "source": [
        "j=range(10)"
      ],
      "metadata": {
        "id": "bSqseMhqpv2n"
      },
      "execution_count": 6,
      "outputs": []
    },
    {
      "cell_type": "code",
      "source": [
        "print(list(j))"
      ],
      "metadata": {
        "colab": {
          "base_uri": "https://localhost:8080/"
        },
        "id": "tBS79mwDpyDC",
        "outputId": "da2b0a21-3bde-473f-dcc6-810cce7c0252"
      },
      "execution_count": 7,
      "outputs": [
        {
          "output_type": "stream",
          "name": "stdout",
          "text": [
            "[0, 1, 2, 3, 4, 5, 6, 7, 8, 9]\n"
          ]
        }
      ]
    },
    {
      "cell_type": "code",
      "source": [
        "a=range(3,8)\n",
        "print(list(a))"
      ],
      "metadata": {
        "colab": {
          "base_uri": "https://localhost:8080/"
        },
        "id": "BSRTGb04p1J8",
        "outputId": "409ac96b-15b6-4fd4-f977-fe8011fa3ac9"
      },
      "execution_count": 8,
      "outputs": [
        {
          "output_type": "stream",
          "name": "stdout",
          "text": [
            "[3, 4, 5, 6, 7]\n"
          ]
        }
      ]
    },
    {
      "cell_type": "code",
      "source": [
        "b=range(-2,4)\n",
        "print(list(b))"
      ],
      "metadata": {
        "colab": {
          "base_uri": "https://localhost:8080/"
        },
        "id": "jWBGwAL7p4F7",
        "outputId": "b3689c4b-3991-4c4a-eb94-a522891d211a"
      },
      "execution_count": 9,
      "outputs": [
        {
          "output_type": "stream",
          "name": "stdout",
          "text": [
            "[-2, -1, 0, 1, 2, 3]\n"
          ]
        }
      ]
    },
    {
      "cell_type": "code",
      "source": [
        "list1=range(1,11)\n",
        "print(list(list1))"
      ],
      "metadata": {
        "colab": {
          "base_uri": "https://localhost:8080/"
        },
        "id": "3doTxUqUp6Xt",
        "outputId": "40a40bdb-ddaa-4327-c057-46d1d5e780ea"
      },
      "execution_count": 10,
      "outputs": [
        {
          "output_type": "stream",
          "name": "stdout",
          "text": [
            "[1, 2, 3, 4, 5, 6, 7, 8, 9, 10]\n"
          ]
        }
      ]
    },
    {
      "cell_type": "code",
      "source": [
        "c=range(3,8,1)\n",
        "print(list(c))"
      ],
      "metadata": {
        "colab": {
          "base_uri": "https://localhost:8080/"
        },
        "id": "1aBZv3mOp8sS",
        "outputId": "d74779a9-ef23-4a6a-8aef-429617a8f046"
      },
      "execution_count": 11,
      "outputs": [
        {
          "output_type": "stream",
          "name": "stdout",
          "text": [
            "[3, 4, 5, 6, 7]\n"
          ]
        }
      ]
    },
    {
      "cell_type": "code",
      "source": [
        "d=range(8,3,-1)\n",
        "print(list(d))"
      ],
      "metadata": {
        "colab": {
          "base_uri": "https://localhost:8080/"
        },
        "id": "WwGl8yXFp_kU",
        "outputId": "b99731c4-9713-4dba-96f2-59e281594f4f"
      },
      "execution_count": 12,
      "outputs": [
        {
          "output_type": "stream",
          "name": "stdout",
          "text": [
            "[8, 7, 6, 5, 4]\n"
          ]
        }
      ]
    },
    {
      "cell_type": "code",
      "source": [
        "e=range(8,3,-2)\n",
        "print(list(e))"
      ],
      "metadata": {
        "colab": {
          "base_uri": "https://localhost:8080/"
        },
        "id": "3RBqXj2EqCC6",
        "outputId": "5c0872a1-6113-4958-9e42-d3c9cabeabc9"
      },
      "execution_count": 13,
      "outputs": [
        {
          "output_type": "stream",
          "name": "stdout",
          "text": [
            "[8, 6, 4]\n"
          ]
        }
      ]
    },
    {
      "cell_type": "code",
      "source": [
        "f=range(9)\n",
        "print(list(f))\n",
        "g=range(1,10)\n",
        "print(list(g))\n",
        "h=range(1,10,2)\n",
        "print(list(h))\n",
        "i=range(10,1,-2)\n",
        "print(list(i))"
      ],
      "metadata": {
        "colab": {
          "base_uri": "https://localhost:8080/"
        },
        "id": "9XgbibdbqEWG",
        "outputId": "f6803424-a9eb-48b2-c238-aa17f12fb90b"
      },
      "execution_count": 14,
      "outputs": [
        {
          "output_type": "stream",
          "name": "stdout",
          "text": [
            "[0, 1, 2, 3, 4, 5, 6, 7, 8]\n",
            "[1, 2, 3, 4, 5, 6, 7, 8, 9]\n",
            "[1, 3, 5, 7, 9]\n",
            "[10, 8, 6, 4, 2]\n"
          ]
        }
      ]
    },
    {
      "cell_type": "code",
      "source": [
        "test=int(input(\"請輸入一個正整數：\"))\n",
        "for m in range(1, test+1):\n",
        "    print(m,end=\" \")"
      ],
      "metadata": {
        "colab": {
          "base_uri": "https://localhost:8080/"
        },
        "id": "k2C2XYzaqHCA",
        "outputId": "29568249-8da2-4322-fa37-040a6a1d99fe"
      },
      "execution_count": 15,
      "outputs": [
        {
          "output_type": "stream",
          "name": "stdout",
          "text": [
            "請輸入一個正整數：5\n",
            "1 2 3 4 5 "
          ]
        }
      ]
    },
    {
      "cell_type": "code",
      "source": [
        "test=int(input(\"請輸入一個正整數：\"))\n",
        "for m in range(1, test+1):\n",
        "    print(m,end=\" \")"
      ],
      "metadata": {
        "colab": {
          "base_uri": "https://localhost:8080/"
        },
        "id": "NUCnF-T7qLYF",
        "outputId": "5671aab9-d49e-4d62-cb01-96d9e6fc6c4b"
      },
      "execution_count": 16,
      "outputs": [
        {
          "output_type": "stream",
          "name": "stdout",
          "text": [
            "請輸入一個正整數：12\n",
            "1 2 3 4 5 6 7 8 9 10 11 12 "
          ]
        }
      ]
    },
    {
      "cell_type": "code",
      "source": [
        "test=int(input(\"請輸入一個正整數：\"))\n",
        "for m in range(1, test+1, 2):\n",
        "    print(m, end=\" \")"
      ],
      "metadata": {
        "colab": {
          "base_uri": "https://localhost:8080/"
        },
        "id": "ulOppINNqOvK",
        "outputId": "1e03d2cd-c22d-426b-ce6f-1bcc76194133"
      },
      "execution_count": 17,
      "outputs": [
        {
          "output_type": "stream",
          "name": "stdout",
          "text": [
            "請輸入一個正整數：10\n",
            "1 3 5 7 9 "
          ]
        }
      ]
    },
    {
      "cell_type": "code",
      "source": [
        "for n in range(3):\n",
        "    print(n,end=\",\")"
      ],
      "metadata": {
        "colab": {
          "base_uri": "https://localhost:8080/"
        },
        "id": "7misXQAnqSOu",
        "outputId": "e9509a20-fce4-4543-8c84-9eea37dd87be"
      },
      "execution_count": 18,
      "outputs": [
        {
          "output_type": "stream",
          "name": "stdout",
          "text": [
            "0,1,2,"
          ]
        }
      ]
    },
    {
      "cell_type": "code",
      "source": [
        "sum=(0)\n",
        "for n in range(3):\n",
        "    sum=sum+n\n",
        "print(sum)"
      ],
      "metadata": {
        "colab": {
          "base_uri": "https://localhost:8080/"
        },
        "id": "r7Hco0ZJqU35",
        "outputId": "fe799d70-dfe3-476b-c896-465109541e7e"
      },
      "execution_count": 19,
      "outputs": [
        {
          "output_type": "stream",
          "name": "stdout",
          "text": [
            "3\n"
          ]
        }
      ]
    },
    {
      "cell_type": "code",
      "source": [
        "test=int(input(\"請輸入一個正整數：\"))\n",
        "sum=(0)\n",
        "for m in range(1, test+1):\n",
        "    sum=sum+m\n",
        "print(sum)"
      ],
      "metadata": {
        "colab": {
          "base_uri": "https://localhost:8080/"
        },
        "id": "vF5OveLQqZni",
        "outputId": "73966e39-0026-4782-fc07-012a5c7bfccd"
      },
      "execution_count": 20,
      "outputs": [
        {
          "output_type": "stream",
          "name": "stdout",
          "text": [
            "請輸入一個正整數：10\n",
            "55\n"
          ]
        }
      ]
    },
    {
      "cell_type": "code",
      "source": [
        "test=int(input(\"請輸入一個正整數：\"))\n",
        "sum=(0)\n",
        "for m in range(1, test+1):\n",
        "    sum=sum+m\n",
        "print(sum)"
      ],
      "metadata": {
        "colab": {
          "base_uri": "https://localhost:8080/"
        },
        "id": "a8b8qG4nqdug",
        "outputId": "a7d6a59e-151a-4042-bcbf-0ea9caa0def3"
      },
      "execution_count": 21,
      "outputs": [
        {
          "output_type": "stream",
          "name": "stdout",
          "text": [
            "請輸入一個正整數：50\n",
            "1275\n"
          ]
        }
      ]
    }
  ]
}