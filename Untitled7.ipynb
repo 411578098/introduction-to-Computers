{
  "nbformat": 4,
  "nbformat_minor": 0,
  "metadata": {
    "colab": {
      "provenance": [],
      "authorship_tag": "ABX9TyNuRCPEWDzY9lLlIkc0x8o3",
      "include_colab_link": true
    },
    "kernelspec": {
      "name": "python3",
      "display_name": "Python 3"
    },
    "language_info": {
      "name": "python"
    }
  },
  "cells": [
    {
      "cell_type": "markdown",
      "metadata": {
        "id": "view-in-github",
        "colab_type": "text"
      },
      "source": [
        "<a href=\"https://colab.research.google.com/github/411578098/introduction-to-Computers/blob/main/Untitled7.ipynb\" target=\"_parent\"><img src=\"https://colab.research.google.com/assets/colab-badge.svg\" alt=\"Open In Colab\"/></a>"
      ]
    },
    {
      "cell_type": "code",
      "execution_count": 4,
      "metadata": {
        "colab": {
          "base_uri": "https://localhost:8080/"
        },
        "id": "G4qlio9fEXw8",
        "outputId": "23eae4a6-d749-44a6-d7f1-fb64d56f0264"
      },
      "outputs": [
        {
          "output_type": "stream",
          "name": "stdout",
          "text": [
            "你年齡太小\n",
            "需年滿20歲才可以購買菸酒\n"
          ]
        }
      ],
      "source": [
        "age=18\n",
        "if(age<20):\n",
        "  print(\"你年齡太小\")\n",
        "  print(\"需年滿20歲才可以購買菸酒\")"
      ]
    },
    {
      "cell_type": "code",
      "source": [
        "age=input(\"請輸入年齡\")\n",
        "if(int(age)<20):\n",
        "  print(\"你年齡太小\")\n",
        "  print(\"需年滿20才可以購買菸酒\")\n",
        "else:\n",
        "  print(\"歡迎購買菸酒\")"
      ],
      "metadata": {
        "colab": {
          "base_uri": "https://localhost:8080/"
        },
        "id": "IqrNLIf_F5je",
        "outputId": "e754615c-2b95-484d-914b-972820762b0a"
      },
      "execution_count": 5,
      "outputs": [
        {
          "output_type": "stream",
          "name": "stdout",
          "text": [
            "請輸入年齡18\n",
            "你年齡太小\n",
            "需年滿20才可以購買菸酒\n"
          ]
        }
      ]
    },
    {
      "cell_type": "code",
      "source": [
        "print(\"計算最終成績\")\n",
        "score=input(\"請輸入分數\")\n",
        "sc=int(score)\n",
        "if(sc>=90):\n",
        "  print(\"A\")\n",
        "elif(sc>=80):\n",
        "  print(\"B\")\n",
        "elif(sc>=70):\n",
        "  print(\"C\")\n",
        "elif(sc>=60):\n",
        "  print(\"D\")\n",
        "else:\n",
        "  print(\"F\")"
      ],
      "metadata": {
        "colab": {
          "base_uri": "https://localhost:8080/"
        },
        "id": "f0RGY3F4GoEd",
        "outputId": "b271f350-ad0f-4ac2-9319-788fc547e3d3"
      },
      "execution_count": 13,
      "outputs": [
        {
          "output_type": "stream",
          "name": "stdout",
          "text": [
            "計算最終成績\n",
            "請輸入分數91\n",
            "A\n"
          ]
        }
      ]
    },
    {
      "cell_type": "code",
      "source": [
        "print(\"判斷輸入年份是否閏年\")\n",
        "year=int(input(\"請輸入年份:\"))\n",
        "rem4=year%4\n",
        "rem100=year%100\n",
        "rem400=year%400\n",
        "if rem4==0:\n",
        "  if rem100 !=0 or rem400==0:\n",
        "   print(\"是閏年:\",year)\n",
        "  else:\n",
        "   print(\"是平年:\",year)\n",
        "else:\n",
        "  peint(\"是平年:\",year)"
      ],
      "metadata": {
        "colab": {
          "base_uri": "https://localhost:8080/"
        },
        "id": "cAfL8U1RHukm",
        "outputId": "93adec03-c25e-4933-8c9f-854476a1a8d1"
      },
      "execution_count": 10,
      "outputs": [
        {
          "output_type": "stream",
          "name": "stdout",
          "text": [
            "判斷輸入年份是否閏年\n",
            "請輸入年份:2020\n",
            "是閏年: 2020\n"
          ]
        }
      ]
    },
    {
      "cell_type": "code",
      "source": [
        "a=int(input())\n",
        "if(a>=0):\n",
        "  if(a%2==0):\n",
        "    print(\"{}is even\".format(a))\n",
        "  else:\n",
        "    print(\"{}is odd\".format(a))\n",
        "else:\n",
        "  print(\"Input Error\")"
      ],
      "metadata": {
        "colab": {
          "base_uri": "https://localhost:8080/"
        },
        "id": "KkmnEmhGKynu",
        "outputId": "fb1c2911-ea4d-481e-b3d0-04c3ef61e721"
      },
      "execution_count": 16,
      "outputs": [
        {
          "output_type": "stream",
          "name": "stdout",
          "text": [
            "99\n",
            "99is odd\n"
          ]
        }
      ]
    }
  ]
}