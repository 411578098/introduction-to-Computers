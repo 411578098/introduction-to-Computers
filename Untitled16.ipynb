{
  "nbformat": 4,
  "nbformat_minor": 0,
  "metadata": {
    "colab": {
      "provenance": [],
      "authorship_tag": "ABX9TyOet6LTIYJo2dJIlnNQbUrb",
      "include_colab_link": true
    },
    "kernelspec": {
      "name": "python3",
      "display_name": "Python 3"
    },
    "language_info": {
      "name": "python"
    }
  },
  "cells": [
    {
      "cell_type": "markdown",
      "metadata": {
        "id": "view-in-github",
        "colab_type": "text"
      },
      "source": [
        "<a href=\"https://colab.research.google.com/github/411578098/introduction-to-Computers/blob/main/Untitled16.ipynb\" target=\"_parent\"><img src=\"https://colab.research.google.com/assets/colab-badge.svg\" alt=\"Open In Colab\"/></a>"
      ]
    },
    {
      "cell_type": "code",
      "execution_count": 1,
      "metadata": {
        "colab": {
          "base_uri": "https://localhost:8080/"
        },
        "id": "RalFpPcpw4N6",
        "outputId": "8d36485e-a948-4c8a-a2d3-758ead18c23f"
      },
      "outputs": [
        {
          "output_type": "stream",
          "name": "stdout",
          "text": [
            "請輸入密碼：1234\n",
            "歡迎光臨！\n"
          ]
        }
      ],
      "source": [
        "correct_password = \"1234\"\n",
        "input_password = input(\"請輸入密碼：\")\n",
        "if input_password == correct_password:\n",
        "    print(\"歡迎光臨！\")"
      ]
    },
    {
      "cell_type": "code",
      "source": [
        "rain = input(\"今天會下雨嗎？\")\n",
        "if rain == \"Y\" or rain == \"y\":\n",
        "    print(\"出門記得帶傘！\")"
      ],
      "metadata": {
        "colab": {
          "base_uri": "https://localhost:8080/"
        },
        "id": "A2cM-7efxcRj",
        "outputId": "e9fd9f43-c3f7-4216-8143-ba656894ceae"
      },
      "execution_count": 2,
      "outputs": [
        {
          "output_type": "stream",
          "name": "stdout",
          "text": [
            "今天會下雨嗎？Y\n",
            "出門記得帶傘！\n"
          ]
        }
      ]
    },
    {
      "cell_type": "code",
      "source": [
        "correct_password = \"1234\"\n",
        "input_password = input(\"請輸入密碼：\")\n",
        "if input_password == correct_password:\n",
        "    print(\"歡迎光臨！\")\n",
        "else:\n",
        "    print(\"密碼錯誤！\")"
      ],
      "metadata": {
        "colab": {
          "base_uri": "https://localhost:8080/"
        },
        "id": "WDo_-TS-xfb9",
        "outputId": "f761fed0-d780-4510-ad9b-9fc757fb0529"
      },
      "execution_count": 3,
      "outputs": [
        {
          "output_type": "stream",
          "name": "stdout",
          "text": [
            "請輸入密碼：1234\n",
            "歡迎光臨！\n"
          ]
        }
      ]
    },
    {
      "cell_type": "code",
      "source": [
        "rain = input(\"今天會下雨嗎？\")\n",
        "if rain == \"Y\" or rain == \"y\":\n",
        "    print(\"出門記得帶傘！\")\n",
        "else:\n",
        "    print(\"不用帶傘\")"
      ],
      "metadata": {
        "colab": {
          "base_uri": "https://localhost:8080/"
        },
        "id": "WBMtg_t2xrHD",
        "outputId": "a455fa11-02da-4cea-ea46-d83d29489e5f"
      },
      "execution_count": 4,
      "outputs": [
        {
          "output_type": "stream",
          "name": "stdout",
          "text": [
            "今天會下雨嗎？Y\n",
            "出門記得帶傘！\n"
          ]
        }
      ]
    },
    {
      "cell_type": "code",
      "source": [
        "num = int(input(\"請輸入正整數：\"))\n",
        "if num % 2 == 0:\n",
        "    print(f\"{num} 為偶數！\")\n",
        "else:\n",
        "    print(f\"{num} 為奇數！\")"
      ],
      "metadata": {
        "colab": {
          "base_uri": "https://localhost:8080/"
        },
        "id": "QGGSk3tMx0IY",
        "outputId": "2acdb9fe-8b59-4203-e947-59b5cec19556"
      },
      "execution_count": 5,
      "outputs": [
        {
          "output_type": "stream",
          "name": "stdout",
          "text": [
            "請輸入正整數：14\n",
            "14 為偶數！\n"
          ]
        }
      ]
    }
  ]
}